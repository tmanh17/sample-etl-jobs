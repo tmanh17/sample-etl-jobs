{
 "cells": [
  {
   "cell_type": "code",
   "execution_count": 48,
   "metadata": {},
   "outputs": [],
   "source": [
    "import pandas as pd"
   ]
  },
  {
   "cell_type": "code",
   "execution_count": 49,
   "metadata": {},
   "outputs": [
    {
     "data": {
      "text/html": [
       "<div>\n",
       "<style scoped>\n",
       "    .dataframe tbody tr th:only-of-type {\n",
       "        vertical-align: middle;\n",
       "    }\n",
       "\n",
       "    .dataframe tbody tr th {\n",
       "        vertical-align: top;\n",
       "    }\n",
       "\n",
       "    .dataframe thead th {\n",
       "        text-align: right;\n",
       "    }\n",
       "</style>\n",
       "<table border=\"1\" class=\"dataframe\">\n",
       "  <thead>\n",
       "    <tr style=\"text-align: right;\">\n",
       "      <th></th>\n",
       "      <th>PlayerId</th>\n",
       "      <th>Group</th>\n",
       "      <th>Spins</th>\n",
       "      <th>MeanWager</th>\n",
       "      <th>PreferredGame</th>\n",
       "      <th>Spend</th>\n",
       "    </tr>\n",
       "  </thead>\n",
       "  <tbody>\n",
       "    <tr>\n",
       "      <th>0</th>\n",
       "      <td>1</td>\n",
       "      <td>A</td>\n",
       "      <td>0</td>\n",
       "      <td>0</td>\n",
       "      <td>DragonGame</td>\n",
       "      <td>0.0</td>\n",
       "    </tr>\n",
       "    <tr>\n",
       "      <th>1</th>\n",
       "      <td>2</td>\n",
       "      <td>A</td>\n",
       "      <td>0</td>\n",
       "      <td>0</td>\n",
       "      <td>DragonGame</td>\n",
       "      <td>0.0</td>\n",
       "    </tr>\n",
       "    <tr>\n",
       "      <th>2</th>\n",
       "      <td>3</td>\n",
       "      <td>A</td>\n",
       "      <td>40</td>\n",
       "      <td>390000</td>\n",
       "      <td>DragonGame</td>\n",
       "      <td>0.0</td>\n",
       "    </tr>\n",
       "    <tr>\n",
       "      <th>3</th>\n",
       "      <td>4</td>\n",
       "      <td>A</td>\n",
       "      <td>0</td>\n",
       "      <td>0</td>\n",
       "      <td>DragonGame</td>\n",
       "      <td>0.0</td>\n",
       "    </tr>\n",
       "    <tr>\n",
       "      <th>4</th>\n",
       "      <td>5</td>\n",
       "      <td>A</td>\n",
       "      <td>8390</td>\n",
       "      <td>50000</td>\n",
       "      <td>ZeusGame</td>\n",
       "      <td>0.0</td>\n",
       "    </tr>\n",
       "  </tbody>\n",
       "</table>\n",
       "</div>"
      ],
      "text/plain": [
       "   PlayerId Group  Spins  MeanWager PreferredGame  Spend\n",
       "0         1     A      0          0    DragonGame    0.0\n",
       "1         2     A      0          0    DragonGame    0.0\n",
       "2         3     A     40     390000    DragonGame    0.0\n",
       "3         4     A      0          0    DragonGame    0.0\n",
       "4         5     A   8390      50000      ZeusGame    0.0"
      ]
     },
     "execution_count": 49,
     "metadata": {},
     "output_type": "execute_result"
    }
   ],
   "source": [
    "df = pd.read_csv('slots_ab_test.csv')\n",
    "df.head()"
   ]
  },
  {
   "cell_type": "markdown",
   "metadata": {},
   "source": [
    "##### Data discovery &  data cleaning\n",
    "\n",
    "At this stage, we should have some overview information about the dataset. we need to determine whether the data is cleaned or not, Are there any invalid values? Are there any abnormal points? And Do they normalize yet?. \n",
    "\n",
    "This dataset was cleaned without any invalid or abnormal values already.\n"
   ]
  },
  {
   "cell_type": "code",
   "execution_count": 50,
   "metadata": {},
   "outputs": [
    {
     "name": "stdout",
     "output_type": "stream",
     "text": [
      "Shape:  (400000, 6)\n"
     ]
    },
    {
     "data": {
      "text/html": [
       "<div>\n",
       "<style scoped>\n",
       "    .dataframe tbody tr th:only-of-type {\n",
       "        vertical-align: middle;\n",
       "    }\n",
       "\n",
       "    .dataframe tbody tr th {\n",
       "        vertical-align: top;\n",
       "    }\n",
       "\n",
       "    .dataframe thead th {\n",
       "        text-align: right;\n",
       "    }\n",
       "</style>\n",
       "<table border=\"1\" class=\"dataframe\">\n",
       "  <thead>\n",
       "    <tr style=\"text-align: right;\">\n",
       "      <th></th>\n",
       "      <th>Spins</th>\n",
       "      <th>MeanWager</th>\n",
       "      <th>Spend</th>\n",
       "    </tr>\n",
       "  </thead>\n",
       "  <tbody>\n",
       "    <tr>\n",
       "      <th>count</th>\n",
       "      <td>400000.000000</td>\n",
       "      <td>4.000000e+05</td>\n",
       "      <td>400000.000000</td>\n",
       "    </tr>\n",
       "    <tr>\n",
       "      <th>mean</th>\n",
       "      <td>284.257725</td>\n",
       "      <td>3.228188e+05</td>\n",
       "      <td>0.837395</td>\n",
       "    </tr>\n",
       "    <tr>\n",
       "      <th>std</th>\n",
       "      <td>1166.926331</td>\n",
       "      <td>8.370621e+05</td>\n",
       "      <td>7.061384</td>\n",
       "    </tr>\n",
       "    <tr>\n",
       "      <th>min</th>\n",
       "      <td>0.000000</td>\n",
       "      <td>0.000000e+00</td>\n",
       "      <td>0.000000</td>\n",
       "    </tr>\n",
       "    <tr>\n",
       "      <th>25%</th>\n",
       "      <td>0.000000</td>\n",
       "      <td>0.000000e+00</td>\n",
       "      <td>0.000000</td>\n",
       "    </tr>\n",
       "    <tr>\n",
       "      <th>50%</th>\n",
       "      <td>0.000000</td>\n",
       "      <td>0.000000e+00</td>\n",
       "      <td>0.000000</td>\n",
       "    </tr>\n",
       "    <tr>\n",
       "      <th>75%</th>\n",
       "      <td>120.000000</td>\n",
       "      <td>2.600000e+05</td>\n",
       "      <td>0.000000</td>\n",
       "    </tr>\n",
       "    <tr>\n",
       "      <th>max</th>\n",
       "      <td>10000.000000</td>\n",
       "      <td>5.000000e+06</td>\n",
       "      <td>99.990000</td>\n",
       "    </tr>\n",
       "  </tbody>\n",
       "</table>\n",
       "</div>"
      ],
      "text/plain": [
       "               Spins     MeanWager          Spend\n",
       "count  400000.000000  4.000000e+05  400000.000000\n",
       "mean      284.257725  3.228188e+05       0.837395\n",
       "std      1166.926331  8.370621e+05       7.061384\n",
       "min         0.000000  0.000000e+00       0.000000\n",
       "25%         0.000000  0.000000e+00       0.000000\n",
       "50%         0.000000  0.000000e+00       0.000000\n",
       "75%       120.000000  2.600000e+05       0.000000\n",
       "max     10000.000000  5.000000e+06      99.990000"
      ]
     },
     "execution_count": 50,
     "metadata": {},
     "output_type": "execute_result"
    }
   ],
   "source": [
    "print(\"Shape: \", df.shape)\n",
    "df[['Spins','MeanWager', 'Spend']].describe()"
   ]
  },
  {
   "cell_type": "markdown",
   "metadata": {},
   "source": [
    "There is no player existing in both groups as the number of unique PlayerId is equal to the number of rows (400k) in the dataset."
   ]
  },
  {
   "cell_type": "code",
   "execution_count": 51,
   "metadata": {},
   "outputs": [
    {
     "name": "stdout",
     "output_type": "stream",
     "text": [
      "Number of unique Player:  400000\n"
     ]
    },
    {
     "data": {
      "text/html": [
       "<div>\n",
       "<style scoped>\n",
       "    .dataframe tbody tr th:only-of-type {\n",
       "        vertical-align: middle;\n",
       "    }\n",
       "\n",
       "    .dataframe tbody tr th {\n",
       "        vertical-align: top;\n",
       "    }\n",
       "\n",
       "    .dataframe thead th {\n",
       "        text-align: right;\n",
       "    }\n",
       "</style>\n",
       "<table border=\"1\" class=\"dataframe\">\n",
       "  <thead>\n",
       "    <tr style=\"text-align: right;\">\n",
       "      <th></th>\n",
       "      <th>Group</th>\n",
       "      <th>PlayerId</th>\n",
       "    </tr>\n",
       "  </thead>\n",
       "  <tbody>\n",
       "    <tr>\n",
       "      <th>0</th>\n",
       "      <td>A</td>\n",
       "      <td>200000</td>\n",
       "    </tr>\n",
       "    <tr>\n",
       "      <th>1</th>\n",
       "      <td>B</td>\n",
       "      <td>200000</td>\n",
       "    </tr>\n",
       "  </tbody>\n",
       "</table>\n",
       "</div>"
      ],
      "text/plain": [
       "  Group  PlayerId\n",
       "0     A    200000\n",
       "1     B    200000"
      ]
     },
     "execution_count": 51,
     "metadata": {},
     "output_type": "execute_result"
    }
   ],
   "source": [
    "print(\"Number of unique Player: \", df['PlayerId'].nunique())\n",
    "df.groupby('Group').PlayerId.nunique().reset_index()"
   ]
  },
  {
   "cell_type": "markdown",
   "metadata": {},
   "source": [
    "##### Analyze the data\n",
    "\n",
    "After having the overall about the entire dataset, I went deeper to the group level to get some insights. As we can see the mean and total spending of group B is higher than group A although the number of Spins and total MeanWager is pretty lower"
   ]
  },
  {
   "cell_type": "code",
   "execution_count": 52,
   "metadata": {},
   "outputs": [
    {
     "data": {
      "text/html": [
       "<div>\n",
       "<style scoped>\n",
       "    .dataframe tbody tr th:only-of-type {\n",
       "        vertical-align: middle;\n",
       "    }\n",
       "\n",
       "    .dataframe tbody tr th {\n",
       "        vertical-align: top;\n",
       "    }\n",
       "\n",
       "    .dataframe thead th {\n",
       "        text-align: right;\n",
       "    }\n",
       "</style>\n",
       "<table border=\"1\" class=\"dataframe\">\n",
       "  <thead>\n",
       "    <tr style=\"text-align: right;\">\n",
       "      <th></th>\n",
       "      <th>Spins</th>\n",
       "      <th>MeanWager</th>\n",
       "      <th>Spend</th>\n",
       "    </tr>\n",
       "    <tr>\n",
       "      <th>Group</th>\n",
       "      <th></th>\n",
       "      <th></th>\n",
       "      <th></th>\n",
       "    </tr>\n",
       "  </thead>\n",
       "  <tbody>\n",
       "    <tr>\n",
       "      <th>A</th>\n",
       "      <td>68254200</td>\n",
       "      <td>74889080000</td>\n",
       "      <td>142139.52</td>\n",
       "    </tr>\n",
       "    <tr>\n",
       "      <th>B</th>\n",
       "      <td>45448890</td>\n",
       "      <td>54238430000</td>\n",
       "      <td>192818.59</td>\n",
       "    </tr>\n",
       "  </tbody>\n",
       "</table>\n",
       "</div>"
      ],
      "text/plain": [
       "          Spins    MeanWager      Spend\n",
       "Group                                  \n",
       "A      68254200  74889080000  142139.52\n",
       "B      45448890  54238430000  192818.59"
      ]
     },
     "execution_count": 52,
     "metadata": {},
     "output_type": "execute_result"
    }
   ],
   "source": [
    "\n",
    "df[['Group','Spins','MeanWager', 'Spend']].groupby('Group').sum()"
   ]
  },
  {
   "cell_type": "code",
   "execution_count": 53,
   "metadata": {},
   "outputs": [
    {
     "data": {
      "text/html": [
       "<div>\n",
       "<style scoped>\n",
       "    .dataframe tbody tr th:only-of-type {\n",
       "        vertical-align: middle;\n",
       "    }\n",
       "\n",
       "    .dataframe tbody tr th {\n",
       "        vertical-align: top;\n",
       "    }\n",
       "\n",
       "    .dataframe thead th {\n",
       "        text-align: right;\n",
       "    }\n",
       "</style>\n",
       "<table border=\"1\" class=\"dataframe\">\n",
       "  <thead>\n",
       "    <tr style=\"text-align: right;\">\n",
       "      <th></th>\n",
       "      <th>Spins</th>\n",
       "      <th>MeanWager</th>\n",
       "      <th>Spend</th>\n",
       "    </tr>\n",
       "    <tr>\n",
       "      <th>Group</th>\n",
       "      <th></th>\n",
       "      <th></th>\n",
       "      <th></th>\n",
       "    </tr>\n",
       "  </thead>\n",
       "  <tbody>\n",
       "    <tr>\n",
       "      <th>A</th>\n",
       "      <td>341.27100</td>\n",
       "      <td>374445.40</td>\n",
       "      <td>0.710698</td>\n",
       "    </tr>\n",
       "    <tr>\n",
       "      <th>B</th>\n",
       "      <td>227.24445</td>\n",
       "      <td>271192.15</td>\n",
       "      <td>0.964093</td>\n",
       "    </tr>\n",
       "  </tbody>\n",
       "</table>\n",
       "</div>"
      ],
      "text/plain": [
       "           Spins  MeanWager     Spend\n",
       "Group                                \n",
       "A      341.27100  374445.40  0.710698\n",
       "B      227.24445  271192.15  0.964093"
      ]
     },
     "execution_count": 53,
     "metadata": {},
     "output_type": "execute_result"
    }
   ],
   "source": [
    "df[['Group','Spins','MeanWager', 'Spend']].groupby('Group').mean()"
   ]
  },
  {
   "cell_type": "markdown",
   "metadata": {},
   "source": [
    "Continuing to go into detail of PreferredGame to understand how they affect the different metrics between group A and Group B. As we can see the total values of DragonGame in Group A is higher and the total values of other types of game are lower than in Group B. It seems that the company are doing an experiment on this game and many players participated and switched to playing DragonGame during the test. In contrast, all metrics of PreferredGame in Group B seem to be balanced."
   ]
  },
  {
   "cell_type": "code",
   "execution_count": 54,
   "metadata": {},
   "outputs": [
    {
     "data": {
      "text/html": [
       "<div>\n",
       "<style scoped>\n",
       "    .dataframe tbody tr th:only-of-type {\n",
       "        vertical-align: middle;\n",
       "    }\n",
       "\n",
       "    .dataframe tbody tr th {\n",
       "        vertical-align: top;\n",
       "    }\n",
       "\n",
       "    .dataframe thead th {\n",
       "        text-align: right;\n",
       "    }\n",
       "</style>\n",
       "<table border=\"1\" class=\"dataframe\">\n",
       "  <thead>\n",
       "    <tr style=\"text-align: right;\">\n",
       "      <th></th>\n",
       "      <th></th>\n",
       "      <th>Spins</th>\n",
       "      <th>MeanWager</th>\n",
       "      <th>Spend</th>\n",
       "    </tr>\n",
       "    <tr>\n",
       "      <th>Group</th>\n",
       "      <th>PreferredGame</th>\n",
       "      <th></th>\n",
       "      <th></th>\n",
       "      <th></th>\n",
       "    </tr>\n",
       "  </thead>\n",
       "  <tbody>\n",
       "    <tr>\n",
       "      <th rowspan=\"3\" valign=\"top\">A</th>\n",
       "      <th>CowboyGame</th>\n",
       "      <td>343.445888</td>\n",
       "      <td>371418.706591</td>\n",
       "      <td>0.706052</td>\n",
       "    </tr>\n",
       "    <tr>\n",
       "      <th>DragonGame</th>\n",
       "      <td>343.336056</td>\n",
       "      <td>376301.716494</td>\n",
       "      <td>0.713344</td>\n",
       "    </tr>\n",
       "    <tr>\n",
       "      <th>ZeusGame</th>\n",
       "      <td>334.908780</td>\n",
       "      <td>373738.219895</td>\n",
       "      <td>0.710022</td>\n",
       "    </tr>\n",
       "    <tr>\n",
       "      <th rowspan=\"3\" valign=\"top\">B</th>\n",
       "      <th>CowboyGame</th>\n",
       "      <td>221.142494</td>\n",
       "      <td>270911.725168</td>\n",
       "      <td>0.969539</td>\n",
       "    </tr>\n",
       "    <tr>\n",
       "      <th>DragonGame</th>\n",
       "      <td>228.948486</td>\n",
       "      <td>270414.283134</td>\n",
       "      <td>0.963250</td>\n",
       "    </tr>\n",
       "    <tr>\n",
       "      <th>ZeusGame</th>\n",
       "      <td>231.677374</td>\n",
       "      <td>272249.557203</td>\n",
       "      <td>0.959461</td>\n",
       "    </tr>\n",
       "  </tbody>\n",
       "</table>\n",
       "</div>"
      ],
      "text/plain": [
       "                          Spins      MeanWager     Spend\n",
       "Group PreferredGame                                     \n",
       "A     CowboyGame     343.445888  371418.706591  0.706052\n",
       "      DragonGame     343.336056  376301.716494  0.713344\n",
       "      ZeusGame       334.908780  373738.219895  0.710022\n",
       "B     CowboyGame     221.142494  270911.725168  0.969539\n",
       "      DragonGame     228.948486  270414.283134  0.963250\n",
       "      ZeusGame       231.677374  272249.557203  0.959461"
      ]
     },
     "execution_count": 54,
     "metadata": {},
     "output_type": "execute_result"
    }
   ],
   "source": [
    "df[['Group','PreferredGame','Spins','MeanWager', 'Spend']].groupby(['Group','PreferredGame']).mean()"
   ]
  },
  {
   "cell_type": "code",
   "execution_count": 55,
   "metadata": {},
   "outputs": [
    {
     "data": {
      "text/html": [
       "<div>\n",
       "<style scoped>\n",
       "    .dataframe tbody tr th:only-of-type {\n",
       "        vertical-align: middle;\n",
       "    }\n",
       "\n",
       "    .dataframe tbody tr th {\n",
       "        vertical-align: top;\n",
       "    }\n",
       "\n",
       "    .dataframe thead th {\n",
       "        text-align: right;\n",
       "    }\n",
       "</style>\n",
       "<table border=\"1\" class=\"dataframe\">\n",
       "  <thead>\n",
       "    <tr style=\"text-align: right;\">\n",
       "      <th></th>\n",
       "      <th></th>\n",
       "      <th>Spins</th>\n",
       "      <th>MeanWager</th>\n",
       "      <th>Spend</th>\n",
       "    </tr>\n",
       "    <tr>\n",
       "      <th>Group</th>\n",
       "      <th>PreferredGame</th>\n",
       "      <th></th>\n",
       "      <th></th>\n",
       "      <th></th>\n",
       "    </tr>\n",
       "  </thead>\n",
       "  <tbody>\n",
       "    <tr>\n",
       "      <th rowspan=\"3\" valign=\"top\">A</th>\n",
       "      <th>CowboyGame</th>\n",
       "      <td>17158900</td>\n",
       "      <td>18556450000</td>\n",
       "      <td>35275.07</td>\n",
       "    </tr>\n",
       "    <tr>\n",
       "      <th>DragonGame</th>\n",
       "      <td>34463730</td>\n",
       "      <td>37772790000</td>\n",
       "      <td>71604.78</td>\n",
       "    </tr>\n",
       "    <tr>\n",
       "      <th>ZeusGame</th>\n",
       "      <td>16631570</td>\n",
       "      <td>18559840000</td>\n",
       "      <td>35259.67</td>\n",
       "    </tr>\n",
       "    <tr>\n",
       "      <th rowspan=\"3\" valign=\"top\">B</th>\n",
       "      <th>CowboyGame</th>\n",
       "      <td>14805490</td>\n",
       "      <td>18137540000</td>\n",
       "      <td>64910.62</td>\n",
       "    </tr>\n",
       "    <tr>\n",
       "      <th>DragonGame</th>\n",
       "      <td>15208590</td>\n",
       "      <td>17963080000</td>\n",
       "      <td>63986.76</td>\n",
       "    </tr>\n",
       "    <tr>\n",
       "      <th>ZeusGame</th>\n",
       "      <td>15434810</td>\n",
       "      <td>18137810000</td>\n",
       "      <td>63921.21</td>\n",
       "    </tr>\n",
       "  </tbody>\n",
       "</table>\n",
       "</div>"
      ],
      "text/plain": [
       "                        Spins    MeanWager     Spend\n",
       "Group PreferredGame                                 \n",
       "A     CowboyGame     17158900  18556450000  35275.07\n",
       "      DragonGame     34463730  37772790000  71604.78\n",
       "      ZeusGame       16631570  18559840000  35259.67\n",
       "B     CowboyGame     14805490  18137540000  64910.62\n",
       "      DragonGame     15208590  17963080000  63986.76\n",
       "      ZeusGame       15434810  18137810000  63921.21"
      ]
     },
     "execution_count": 55,
     "metadata": {},
     "output_type": "execute_result"
    }
   ],
   "source": [
    "df[['Group','PreferredGame','Spins','MeanWager', 'Spend']].groupby(['Group','PreferredGame']).sum()"
   ]
  },
  {
   "cell_type": "markdown",
   "metadata": {},
   "source": [
    "##### Conclusion\n",
    "\n",
    "The more Spin times are the more players spend their time playing games. It can be a good signal to keep players stay with the company and increase the retention rate. However, Spending is a really important metric we should set high prioritize actually. Thus, in this case, I recommend rolling out group B."
   ]
  },
  {
   "cell_type": "markdown",
   "metadata": {},
   "source": []
  }
 ],
 "metadata": {
  "kernelspec": {
   "display_name": "Python 3.10.9 64-bit",
   "language": "python",
   "name": "python3"
  },
  "language_info": {
   "codemirror_mode": {
    "name": "ipython",
    "version": 3
   },
   "file_extension": ".py",
   "mimetype": "text/x-python",
   "name": "python",
   "nbconvert_exporter": "python",
   "pygments_lexer": "ipython3",
   "version": "3.10.9"
  },
  "orig_nbformat": 4,
  "vscode": {
   "interpreter": {
    "hash": "b0fa6594d8f4cbf19f97940f81e996739fb7646882a419484c72d19e05852a7e"
   }
  }
 },
 "nbformat": 4,
 "nbformat_minor": 2
}
